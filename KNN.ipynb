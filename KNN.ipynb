{
  "nbformat": 4,
  "nbformat_minor": 0,
  "metadata": {
    "colab": {
      "name": "Untitled18.ipynb",
      "provenance": []
    },
    "kernelspec": {
      "name": "python3",
      "display_name": "Python 3"
    },
    "language_info": {
      "name": "python"
    }
  },
  "cells": [
    {
      "cell_type": "code",
      "execution_count": null,
      "metadata": {
        "colab": {
          "base_uri": "https://localhost:8080/"
        },
        "id": "h14JroaBlq3B",
        "outputId": "f04e34b8-ea88-4211-9546-3aefff1bd962"
      },
      "outputs": [
        {
          "output_type": "stream",
          "name": "stdout",
          "text": [
            "<class 'pandas.core.frame.DataFrame'>\n",
            "RangeIndex: 150 entries, 0 to 149\n",
            "Data columns (total 6 columns):\n",
            " #   Column         Non-Null Count  Dtype  \n",
            "---  ------         --------------  -----  \n",
            " 0   Id             150 non-null    int64  \n",
            " 1   SepalLengthCm  150 non-null    float64\n",
            " 2   SepalWidthCm   150 non-null    float64\n",
            " 3   PetalLengthCm  150 non-null    float64\n",
            " 4   PetalWidthCm   150 non-null    float64\n",
            " 5   Species        150 non-null    object \n",
            "dtypes: float64(4), int64(1), object(1)\n",
            "memory usage: 7.2+ KB\n",
            "(105, 6)\n",
            "(45, 6)\n",
            "     0    1    2     3\n",
            "0  5.5  2.2  4.8  1.82\n",
            "predicted: ['Iris-virginica']\n",
            "neighbors (array([[0.44988888, 0.62641839, 0.64218377, 0.66060578, 0.66060578]]), array([[82, 75, 38, 28, 22]]))\n"
          ]
        },
        {
          "output_type": "stream",
          "name": "stderr",
          "text": [
            "/usr/local/lib/python3.7/dist-packages/sklearn/base.py:451: UserWarning: X does not have valid feature names, but KNeighborsClassifier was fitted with feature names\n",
            "  \"X does not have valid feature names, but\"\n",
            "/usr/local/lib/python3.7/dist-packages/sklearn/base.py:451: UserWarning: X does not have valid feature names, but KNeighborsClassifier was fitted with feature names\n",
            "  \"X does not have valid feature names, but\"\n"
          ]
        }
      ],
      "source": [
        "import numpy as np \n",
        "import pandas as pd \n",
        "import seaborn as sns\n",
        "import matplotlib.pyplot as plt\n",
        "\n",
        "iris = pd.read_csv(\"/content/Iris.csv\")\n",
        "\n",
        "iris.head(2)\n",
        "\n",
        "iris.info() \n",
        "\n",
        "from sklearn.model_selection import train_test_split \n",
        "from sklearn.neighbors import KNeighborsClassifier  \n",
        "from sklearn import metrics \n",
        "\n",
        "\n",
        "iris.shape\n",
        "\n",
        "train, test = train_test_split(iris, test_size = 0.3)\n",
        "print(train.shape)\n",
        "print(test.shape)\n",
        "\n",
        "train_X = train[['SepalLengthCm','SepalWidthCm','PetalLengthCm','PetalWidthCm']]\n",
        "train_y=train.Species\n",
        "test_X= test[['SepalLengthCm','SepalWidthCm','PetalLengthCm','PetalWidthCm']] \n",
        "test_y =test.Species  \n",
        "\n",
        "model=KNeighborsClassifier(n_neighbors=5) \n",
        "model.fit(train_X,train_y)\n",
        "#prediction=model.predict(test_X)\n",
        "\n",
        "testSet = [[ 5.5, 2.2, 4.8, 1.82 ]]\n",
        "test = pd.DataFrame(testSet)\n",
        "print(test)\n",
        "print(\"predicted:\",model.predict(test))\n",
        "print(\"neighbors\",model.kneighbors(test))\n",
        "#print('The accuracy of the KNN is',metrics.accuracy_score(prediction,test_y))"
      ]
    }
  ]
}